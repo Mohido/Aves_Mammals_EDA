{
 "cells": [
  {
   "cell_type": "markdown",
   "metadata": {
    "id": "LbKlKXnlbn_q"
   },
   "source": [
    "###### Installing dependencies and importing them."
   ]
  },
  {
   "cell_type": "code",
   "execution_count": null,
   "metadata": {
    "colab": {
     "base_uri": "https://localhost:8080/"
    },
    "executionInfo": {
     "elapsed": 7186,
     "status": "ok",
     "timestamp": 1639525991259,
     "user": {
      "displayName": "Mohammed Almahdawi",
      "photoUrl": "https://lh3.googleusercontent.com/a/default-user=s64",
      "userId": "16227674272382814758"
     },
     "user_tz": -60
    },
    "id": "Xkq6ymuPbTY2",
    "outputId": "b6572c21-fc31-47de-a343-5c3591f6c8b0"
   },
   "outputs": [],
   "source": []
  },
  {
   "cell_type": "code",
   "execution_count": 1,
   "metadata": {
    "executionInfo": {
     "elapsed": 741,
     "status": "ok",
     "timestamp": 1639525991995,
     "user": {
      "displayName": "Mohammed Almahdawi",
      "photoUrl": "https://lh3.googleusercontent.com/a/default-user=s64",
      "userId": "16227674272382814758"
     },
     "user_tz": -60
    },
    "id": "_Qx7KeEKcwuw"
   },
   "outputs": [],
   "source": [
    "# Loading the images data.\n",
    "\n",
    "\n",
    "import matplotlib.pyplot as plt\n",
    "import numpy as np\n",
    "import os\n",
    "\n",
    "from PIL import Image\n",
    "\n",
    "from sklearn.metrics import roc_curve\n",
    "\n",
    "from sklearn.linear_model import LogisticRegression\n",
    "from sklearn.linear_model import SGDClassifier\n",
    "from sklearn.ensemble import RandomForestClassifier\n",
    "from sklearn.neural_network import MLPClassifier\n",
    "from sklearn.utils import shuffle\n",
    "from sklearn.metrics import accuracy_score\n",
    "from sklearn.metrics import plot_roc_curve\n",
    "from sklearn.metrics import roc_auc_score\n",
    "\n",
    "\n",
    "import pickle\n",
    "import time"
   ]
  },
  {
   "cell_type": "markdown",
   "metadata": {
    "id": "d8jSFGBubg3u"
   },
   "source": [
    "###### Connecting to my google drive"
   ]
  },
  {
   "cell_type": "code",
   "execution_count": null,
   "metadata": {
    "colab": {
     "base_uri": "https://localhost:8080/"
    },
    "executionInfo": {
     "elapsed": 13345,
     "status": "ok",
     "timestamp": 1639526005336,
     "user": {
      "displayName": "Mohammed Almahdawi",
      "photoUrl": "https://lh3.googleusercontent.com/a/default-user=s64",
      "userId": "16227674272382814758"
     },
     "user_tz": -60
    },
    "id": "ebSLYiurbgFL",
    "outputId": "50c6892a-0eff-4712-8583-26ed53f80535"
   },
   "outputs": [],
   "source": []
  },
  {
   "cell_type": "code",
   "execution_count": null,
   "metadata": {
    "colab": {
     "base_uri": "https://localhost:8080/"
    },
    "executionInfo": {
     "elapsed": 393,
     "status": "ok",
     "timestamp": 1639526005725,
     "user": {
      "displayName": "Mohammed Almahdawi",
      "photoUrl": "https://lh3.googleusercontent.com/a/default-user=s64",
      "userId": "16227674272382814758"
     },
     "user_tz": -60
    },
    "id": "Q0Xz-4vvbw60",
    "outputId": "09a09de1-1b5b-4710-e428-f59adc83be2c"
   },
   "outputs": [],
   "source": []
  },
  {
   "cell_type": "markdown",
   "metadata": {
    "id": "pf_VSQ1Xc9vX"
   },
   "source": [
    "# Loading The data."
   ]
  },
  {
   "cell_type": "code",
   "execution_count": 2,
   "metadata": {
    "executionInfo": {
     "elapsed": 10,
     "status": "ok",
     "timestamp": 1639526005726,
     "user": {
      "displayName": "Mohammed Almahdawi",
      "photoUrl": "https://lh3.googleusercontent.com/a/default-user=s64",
      "userId": "16227674272382814758"
     },
     "user_tz": -60
    },
    "id": "WiOMGJvoe3d_"
   },
   "outputs": [],
   "source": [
    "AVES_PATH = \"./images_resized/aves/\"\n",
    "MAMMALS_PATH = \"./images_resized/mammals/\""
   ]
  },
  {
   "cell_type": "code",
   "execution_count": 3,
   "metadata": {
    "colab": {
     "base_uri": "https://localhost:8080/",
     "height": 87
    },
    "executionInfo": {
     "elapsed": 9,
     "status": "ok",
     "timestamp": 1639526005726,
     "user": {
      "displayName": "Mohammed Almahdawi",
      "photoUrl": "https://lh3.googleusercontent.com/a/default-user=s64",
      "userId": "16227674272382814758"
     },
     "user_tz": -60
    },
    "id": "fvUZ7YivcV5n",
    "outputId": "6025074c-10b3-412b-88a2-fd5731e86bc8"
   },
   "outputs": [
    {
     "data": {
      "text/plain": [
       "'\\nMAMMALS_FULL_DATASET = []\\nfilesList = os.listdir(MAMMALS_PATH)\\nfor i, f in enumerate(filesList):\\n  try:\\n    imgdata = list(Image.open(os.path.join(MAMMALS_PATH,f)).convert(\\'RGB\\').getdata())\\n    imgdataReshaped = [x for sets in imgdata for x in sets]\\n    MAMMALS_FULL_DATASET.append(imgdataReshaped)\\n  except:\\n    print(\"Failed loading image: \", str(i))\\n    pass\\nlen(MAMMALS_FULL_DATASET)\\n'"
      ]
     },
     "execution_count": 3,
     "metadata": {},
     "output_type": "execute_result"
    }
   ],
   "source": [
    "'''\n",
    "MAMMALS_FULL_DATASET = []\n",
    "filesList = os.listdir(MAMMALS_PATH)\n",
    "for i, f in enumerate(filesList):\n",
    "  try:\n",
    "    imgdata = list(Image.open(os.path.join(MAMMALS_PATH,f)).convert('RGB').getdata())\n",
    "    imgdataReshaped = [x for sets in imgdata for x in sets]\n",
    "    MAMMALS_FULL_DATASET.append(imgdataReshaped)\n",
    "  except:\n",
    "    print(\"Failed loading image: \", str(i))\n",
    "    pass\n",
    "len(MAMMALS_FULL_DATASET)\n",
    "'''"
   ]
  },
  {
   "cell_type": "code",
   "execution_count": null,
   "metadata": {
    "executionInfo": {
     "elapsed": 9,
     "status": "ok",
     "timestamp": 1639526005727,
     "user": {
      "displayName": "Mohammed Almahdawi",
      "photoUrl": "https://lh3.googleusercontent.com/a/default-user=s64",
      "userId": "16227674272382814758"
     },
     "user_tz": -60
    },
    "id": "kz01gBpGmL6e"
   },
   "outputs": [],
   "source": []
  },
  {
   "cell_type": "code",
   "execution_count": 4,
   "metadata": {
    "colab": {
     "base_uri": "https://localhost:8080/",
     "height": 87
    },
    "executionInfo": {
     "elapsed": 9,
     "status": "ok",
     "timestamp": 1639526005727,
     "user": {
      "displayName": "Mohammed Almahdawi",
      "photoUrl": "https://lh3.googleusercontent.com/a/default-user=s64",
      "userId": "16227674272382814758"
     },
     "user_tz": -60
    },
    "id": "JA0uDAdVX9mO",
    "outputId": "f106cc72-7162-4aca-876f-13bf85946e0b"
   },
   "outputs": [
    {
     "data": {
      "text/plain": [
       "'\\nAVES_FULL_DATASET = []\\nfilesList = os.listdir(AVES_PATH)\\nfor i, f in enumerate(filesList):\\n  print(\"Loading image: \", str(i), end=\\'\\r\\')\\n  imgdata = list(Image.open(os.path.join(AVES_PATH,f)).getdata())\\n  imgdataReshaped = [x for sets in imgdata for x in sets]\\n  AVES_FULL_DATASET.append(imgdataReshaped)\\n\\nlen(AVES_FULL_DATASET)\\n'"
      ]
     },
     "execution_count": 4,
     "metadata": {},
     "output_type": "execute_result"
    }
   ],
   "source": [
    "'''\n",
    "AVES_FULL_DATASET = []\n",
    "filesList = os.listdir(AVES_PATH)\n",
    "for i, f in enumerate(filesList):\n",
    "  print(\"Loading image: \", str(i), end='\\r')\n",
    "  imgdata = list(Image.open(os.path.join(AVES_PATH,f)).getdata())\n",
    "  imgdataReshaped = [x for sets in imgdata for x in sets]\n",
    "  AVES_FULL_DATASET.append(imgdataReshaped)\n",
    "\n",
    "len(AVES_FULL_DATASET)\n",
    "'''"
   ]
  },
  {
   "cell_type": "code",
   "execution_count": null,
   "metadata": {
    "executionInfo": {
     "elapsed": 9,
     "status": "ok",
     "timestamp": 1639526005728,
     "user": {
      "displayName": "Mohammed Almahdawi",
      "photoUrl": "https://lh3.googleusercontent.com/a/default-user=s64",
      "userId": "16227674272382814758"
     },
     "user_tz": -60
    },
    "id": "geb5l3FBZxgX"
   },
   "outputs": [],
   "source": []
  },
  {
   "cell_type": "code",
   "execution_count": null,
   "metadata": {
    "executionInfo": {
     "elapsed": 9,
     "status": "ok",
     "timestamp": 1639526005728,
     "user": {
      "displayName": "Mohammed Almahdawi",
      "photoUrl": "https://lh3.googleusercontent.com/a/default-user=s64",
      "userId": "16227674272382814758"
     },
     "user_tz": -60
    },
    "id": "YsL9e2pvcNsA"
   },
   "outputs": [],
   "source": [
    "def loadBatch(batchsize, nth_batch, path):\n",
    "    filesList = os.listdir(path)\n",
    "    start = batchsize*nth_batch\n",
    "    end =  batchsize*nth_batch + batchsize\n",
    "    if(start >= len(filesList)):\n",
    "        return np.array([])\n",
    "    f = filesList[start]\n",
    "    imgs = np.array(Image.open(os.path.join(path,f)).convert('RGB').getdata(), dtype = np.int8)\n",
    "    for i in range(start+1, end):\n",
    "        if(i >= len(filesList)):\n",
    "            break\n",
    "        f = filesList[i]\n",
    "        try:\n",
    "            imgdata = np.array(Image.open(os.path.join(path,f)).convert('RGB').getdata(), dtype=np.int8)\n",
    "            imgdataReshaped = np.array([x for sets in imgdata for x in sets], dtype=np.int8)\n",
    "            imgs = np.concatenate( (imgs, imgdataReshaped), axis=0)\n",
    "            print(\"Done loading image: \", str(i))\n",
    "        except:\n",
    "            print(i)\n",
    "            continue\n",
    "            pass\n",
    "    return imgs"
   ]
  },
  {
   "cell_type": "code",
   "execution_count": null,
   "metadata": {
    "colab": {
     "base_uri": "https://localhost:8080/"
    },
    "executionInfo": {
     "elapsed": 19255,
     "status": "ok",
     "timestamp": 1639526024975,
     "user": {
      "displayName": "Mohammed Almahdawi",
      "photoUrl": "https://lh3.googleusercontent.com/a/default-user=s64",
      "userId": "16227674272382814758"
     },
     "user_tz": -60
    },
    "id": "EsteweaZe5aC",
    "outputId": "a5a6489d-6329-4cb6-dd16-2dab8e27e56c"
   },
   "outputs": [],
   "source": [
    "X = np.concatenate((loadBatch(1000000, 0, AVES_PATH) , loadBatch(1000000, 0, MAMMALS_PATH)), axis = 0)\n"
   ]
  },
  {
   "cell_type": "code",
   "execution_count": null,
   "metadata": {
    "colab": {
     "base_uri": "https://localhost:8080/"
    },
    "executionInfo": {
     "elapsed": 1793,
     "status": "ok",
     "timestamp": 1639526026757,
     "user": {
      "displayName": "Mohammed Almahdawi",
      "photoUrl": "https://lh3.googleusercontent.com/a/default-user=s64",
      "userId": "16227674272382814758"
     },
     "user_tz": -60
    },
    "id": "7celSiMYfCgQ",
    "outputId": "8abad4ea-31be-47cd-89f0-82413500f613"
   },
   "outputs": [],
   "source": []
  },
  {
   "cell_type": "code",
   "execution_count": null,
   "metadata": {
    "colab": {
     "base_uri": "https://localhost:8080/"
    },
    "executionInfo": {
     "elapsed": 6,
     "status": "ok",
     "timestamp": 1639526026757,
     "user": {
      "displayName": "Mohammed Almahdawi",
      "photoUrl": "https://lh3.googleusercontent.com/a/default-user=s64",
      "userId": "16227674272382814758"
     },
     "user_tz": -60
    },
    "id": "-KEgUoVIjWGW",
    "outputId": "393fdcf0-ca00-49fe-dc5f-ad2411d4e8ae"
   },
   "outputs": [],
   "source": [
    "len(X)"
   ]
  },
  {
   "cell_type": "code",
   "execution_count": null,
   "metadata": {
    "executionInfo": {
     "elapsed": 5,
     "status": "ok",
     "timestamp": 1639526026758,
     "user": {
      "displayName": "Mohammed Almahdawi",
      "photoUrl": "https://lh3.googleusercontent.com/a/default-user=s64",
      "userId": "16227674272382814758"
     },
     "user_tz": -60
    },
    "id": "tAatiU1yhWg7"
   },
   "outputs": [],
   "source": [
    "def show(imgs, titles=[], rows=3, cols=3):\n",
    "  plt.figure(figsize=(7, 7))\n",
    "  for i, avian in enumerate(imgs):\n",
    "    plt.subplot(rows, cols, i+1)\n",
    "    plt.imshow(np.array(avian).reshape(224,224,3))\n",
    "    if(len(imgs) != len(titles)):\n",
    "      plt.title( str(i), fontsize=10)\n",
    "    else:\n",
    "      plt.title( str(titles[i]), fontsize=8)\n",
    "    plt.axis('off')\n",
    "  plt.show()"
   ]
  },
  {
   "cell_type": "code",
   "execution_count": null,
   "metadata": {
    "colab": {
     "base_uri": "https://localhost:8080/",
     "height": 425
    },
    "executionInfo": {
     "elapsed": 1343,
     "status": "ok",
     "timestamp": 1639526028096,
     "user": {
      "displayName": "Mohammed Almahdawi",
      "photoUrl": "https://lh3.googleusercontent.com/a/default-user=s64",
      "userId": "16227674272382814758"
     },
     "user_tz": -60
    },
    "id": "Vs4yurpLkr5M",
    "outputId": "72f248d6-353c-4095-dceb-32060b8c6336"
   },
   "outputs": [],
   "source": [
    "show(X[:9])"
   ]
  },
  {
   "cell_type": "markdown",
   "metadata": {
    "id": "qDRDec0HoZpQ"
   },
   "source": [
    "# Model trainings"
   ]
  },
  {
   "cell_type": "markdown",
   "metadata": {
    "id": "I5HOifsaocX4"
   },
   "source": [
    "### Logistic regression\n",
    "  * We do logistic regression on data patches until we fit the whole model. We also can fit it all in one run but that will be a bit expensive.\n",
    "  We know that we have ~3,230 training set if we want our data to be 85%-15% "
   ]
  },
  {
   "cell_type": "code",
   "execution_count": null,
   "metadata": {
    "executionInfo": {
     "elapsed": 5,
     "status": "ok",
     "timestamp": 1639526028097,
     "user": {
      "displayName": "Mohammed Almahdawi",
      "photoUrl": "https://lh3.googleusercontent.com/a/default-user=s64",
      "userId": "16227674272382814758"
     },
     "user_tz": -60
    },
    "id": "zo65OUA3pVsh"
   },
   "outputs": [],
   "source": [
    "TRAINING_SIZE = 3200\n",
    "BATCH_SIZE = 3200"
   ]
  },
  {
   "cell_type": "code",
   "execution_count": null,
   "metadata": {
    "executionInfo": {
     "elapsed": 5,
     "status": "ok",
     "timestamp": 1639526028098,
     "user": {
      "displayName": "Mohammed Almahdawi",
      "photoUrl": "https://lh3.googleusercontent.com/a/default-user=s64",
      "userId": "16227674272382814758"
     },
     "user_tz": -60
    },
    "id": "jlLcs8SaV8y6"
   },
   "outputs": [],
   "source": [
    "def trainLogisticRegression(pen='l2'):\n",
    "  clf = LogisticRegression(random_state=0, n_jobs=-1, max_iter=500, penalty=pen)\n",
    "  n = round(TRAINING_SIZE / BATCH_SIZE)\n",
    "  print()\n",
    "  ETA = 140*n\n",
    "  for i in range(n):\n",
    "    print(\"ETA: \", str(ETA/60))\n",
    "    print(\"Loading Aves batch data: \", str(i))\n",
    "    start_time = time.time()\n",
    "    X = np.array(loadBatch(BATCH_SIZE, i, AVES_PATH)).reshape(-1, 224*224*3)\n",
    "    y = np.array([ 1 for j in range(X.shape[0])])\n",
    "    print(\"Time taken: \", (time.time() - start_time) )\n",
    "\n",
    "    print(\"-------------\\nLoading Mammals batch data: \", str(i))\n",
    "    start_time = time.time()\n",
    "    X = np.concatenate( (\n",
    "                          X, \n",
    "                          np.array(loadBatch(BATCH_SIZE, i, MAMMALS_PATH)).reshape(-1, 224*224*3)\n",
    "                        ), \n",
    "                        axis = 0)\n",
    "    \n",
    "    X = X / 255\n",
    "    y = np.concatenate( (\n",
    "                            y,\n",
    "                            np.array([0 for i in range( X.shape[0] - y.shape[0])] )\n",
    "                         ),\n",
    "                         axis = 0)\n",
    "    print(\"Time taken: \", (time.time() - start_time) )\n",
    "    print(\"-------------\\nFitting model: \", str(i))\n",
    "    start_time = time.time()\n",
    "    clf = clf.fit(X, y)\n",
    "    endt = time.time() - start_time\n",
    "    print(\"Time taken: \",  endt)\n",
    "    ETA = endt * (n - (i + 1))\n",
    "    print(\"Finished batch: \", str(i))\n",
    "    print(\"------------------------------------------------\")\n",
    "  return clf\n",
    "  "
   ]
  },
  {
   "cell_type": "code",
   "execution_count": null,
   "metadata": {
    "colab": {
     "base_uri": "https://localhost:8080/"
    },
    "id": "YLAGlp4etQoe",
    "outputId": "c86139f4-b9a6-4224-cb78-8019f26f3e31"
   },
   "outputs": [],
   "source": [
    "%%time\n",
    "trained_logistic_regression = trainLogisticRegression()"
   ]
  },
  {
   "cell_type": "code",
   "execution_count": null,
   "metadata": {
    "id": "-VoOjJbACvO1"
   },
   "outputs": [],
   "source": [
    "filename = 'logistic_regression.sav'\n",
    "pickle.dump(trained_logistic_regression, open(filename, 'wb'))"
   ]
  },
  {
   "cell_type": "markdown",
   "metadata": {
    "id": "EGH_ESY1GltJ"
   },
   "source": [
    "### Gathering the Testing data"
   ]
  },
  {
   "cell_type": "code",
   "execution_count": null,
   "metadata": {
    "id": "VtFfApIa1gf7"
   },
   "outputs": [],
   "source": [
    "# Avians loading\n",
    "TEST_PICTURES = np.array(loadBatch(3200,1 , AVES_PATH))\n",
    "TEST_LABELS  = np.array([1 for i in range(TEST_PICTURES.shape[0])])\n",
    "print(len(TEST_PICTURES) , len(TEST_LABELS))\n",
    "\n",
    "# mammals\n",
    "TEST_PICTURES = np.concatenate( (TEST_PICTURES, \n",
    "                                np.array(loadBatch(3200,1 , MAMMALS_PATH))\n",
    "                                ),\n",
    "                               axis = 0)\n",
    "\n",
    "TEST_LABELS  = np.concatenate(\n",
    "                            ( TEST_LABELS, \n",
    "                              np.array([0 for i in range( TEST_PICTURES.shape[0] - TEST_LABELS.shape[0]) ])\n",
    "                            ), \n",
    "                            axis = 0)\n",
    "\n",
    "\n",
    "print(len(TEST_PICTURES) , len(TEST_LABELS))\n",
    "\n",
    "\n",
    "\n"
   ]
  },
  {
   "cell_type": "code",
   "execution_count": null,
   "metadata": {
    "id": "mwXA6kMSKDBo"
   },
   "outputs": [],
   "source": [
    "TEST_PICTURES, TEST_LABELS = shuffle(TEST_PICTURES, TEST_LABELS)"
   ]
  },
  {
   "cell_type": "code",
   "execution_count": null,
   "metadata": {
    "id": "QAV6AHrhI8v0"
   },
   "outputs": [],
   "source": [
    "show(TEST_PICTURES[600-4:600+5], TEST_LABELS[600-4:600+5])"
   ]
  },
  {
   "cell_type": "code",
   "execution_count": null,
   "metadata": {
    "id": "C1gHcdIpGkaj"
   },
   "outputs": [],
   "source": [
    "log_pred = trained_logistic_regression.predict(TEST_PICTURES.reshape(-1, 224*224*3))"
   ]
  },
  {
   "cell_type": "code",
   "execution_count": null,
   "metadata": {
    "id": "JsVv4W3sFzOG"
   },
   "outputs": [],
   "source": [
    "acc = accuracy_score(TEST_LABELS, log_pred)\n",
    "auc = roc_auc_score(TEST_LABELS, log_pred)\n",
    "print(\"acc: \" , acc , \" AUC: \", auc)"
   ]
  },
  {
   "cell_type": "code",
   "execution_count": null,
   "metadata": {
    "id": "A5znYLBpPa9o"
   },
   "outputs": [],
   "source": [
    "plot_roc_curve(trained_logistic_regression, X = TEST_PICTURES.reshape(-1, 224*224*3), y = TEST_LABELS)\n",
    "plt.title(\"LOGISTIC REGRESSION ROC\")\n",
    "plt.show()"
   ]
  },
  {
   "cell_type": "code",
   "execution_count": null,
   "metadata": {
    "colab": {
     "base_uri": "https://localhost:8080/",
     "height": 459
    },
    "executionInfo": {
     "elapsed": 51899,
     "status": "ok",
     "timestamp": 1639525497642,
     "user": {
      "displayName": "Mohammed Almahdawi",
      "photoUrl": "https://lh3.googleusercontent.com/a/default-user=s64",
      "userId": "16227674272382814758"
     },
     "user_tz": -60
    },
    "id": "Zs_c9l9OR-Fh",
    "outputId": "d72025ad-0b8d-429a-efec-21f3550c1bac"
   },
   "outputs": [],
   "source": [
    "# Avians loading\n",
    "TRAIN_PARTIAL_PIC = np.array(loadBatch(800, 0, AVES_PATH))\n",
    "TRAIN_PARTIAL_LABELS  = np.array([1 for i in range(TRAIN_PARTIAL_PIC.shape[0])])\n",
    "print(len(TRAIN_PARTIAL_PIC) , len(TRAIN_PARTIAL_LABELS))\n",
    "\n",
    "# mammals\n",
    "TRAIN_PARTIAL_PIC = np.concatenate( (TRAIN_PARTIAL_PIC, \n",
    "                                np.array(loadBatch(800,0 , MAMMALS_PATH))\n",
    "                                ),\n",
    "                               axis = 0)\n",
    "\n",
    "TRAIN_PARTIAL_LABELS  = np.concatenate(\n",
    "                            ( TRAIN_PARTIAL_LABELS, \n",
    "                              np.array([0 for i in range( TRAIN_PARTIAL_PIC.shape[0] - TRAIN_PARTIAL_LABELS.shape[0]) ])\n",
    "                            ), \n",
    "                            axis = 0)\n",
    "\n",
    "\n",
    "print(len(TRAIN_PARTIAL_PIC) , len(TRAIN_PARTIAL_LABELS))\n",
    "\n",
    "TRAIN_PARTIAL_PIC, TRAIN_PARTIAL_LABELS = shuffle(TRAIN_PARTIAL_PIC, TRAIN_PARTIAL_LABELS)\n",
    "\n",
    "show(TRAIN_PARTIAL_PIC[200-4:200+5], TRAIN_PARTIAL_LABELS[200-4:200+5])\n"
   ]
  },
  {
   "cell_type": "code",
   "execution_count": null,
   "metadata": {
    "colab": {
     "base_uri": "https://localhost:8080/",
     "height": 367
    },
    "executionInfo": {
     "elapsed": 697,
     "status": "ok",
     "timestamp": 1639525498334,
     "user": {
      "displayName": "Mohammed Almahdawi",
      "photoUrl": "https://lh3.googleusercontent.com/a/default-user=s64",
      "userId": "16227674272382814758"
     },
     "user_tz": -60
    },
    "id": "Mqz4N696SUmn",
    "outputId": "ef0b44fe-2e5b-466a-d40f-9cad5da7892f"
   },
   "outputs": [],
   "source": [
    "log_pred_train = trained_logistic_regression.predict(TRAIN_PARTIAL_PIC.reshape(-1, 224*224*3))\n",
    "\n",
    "acc = accuracy_score(TRAIN_PARTIAL_LABELS, log_pred_train)\n",
    "auc = roc_auc_score(TRAIN_PARTIAL_LABELS, log_pred_train)\n",
    "print(\"acc: \" , acc , \" AUC: \", auc)\n",
    "\n",
    "plot_roc_curve(trained_logistic_regression, X = TRAIN_PARTIAL_PIC.reshape(-1, 224*224*3), y = TRAIN_PARTIAL_LABELS)\n",
    "plt.title(\"LOGISTIC REGRESSION ROC TRAINING PARTS\")\n",
    "plt.show()"
   ]
  }
 ],
 "metadata": {
  "accelerator": "GPU",
  "colab": {
   "authorship_tag": "ABX9TyP2Qowp1EKahQKZZHoyiYp5",
   "collapsed_sections": [],
   "name": "AVES_MAMMELS_CLASSIFIER.ipynb",
   "provenance": []
  },
  "kernelspec": {
   "display_name": "Python 3 (ipykernel)",
   "language": "python",
   "name": "python3"
  },
  "language_info": {
   "codemirror_mode": {
    "name": "ipython",
    "version": 3
   },
   "file_extension": ".py",
   "mimetype": "text/x-python",
   "name": "python",
   "nbconvert_exporter": "python",
   "pygments_lexer": "ipython3",
   "version": "3.9.7"
  }
 },
 "nbformat": 4,
 "nbformat_minor": 1
}
